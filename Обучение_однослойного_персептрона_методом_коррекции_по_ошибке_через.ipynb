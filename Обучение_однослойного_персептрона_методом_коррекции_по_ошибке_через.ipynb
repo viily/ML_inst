{
  "nbformat": 4,
  "nbformat_minor": 0,
  "metadata": {
    "colab": {
      "name": "Обучение однослойного персептрона методом коррекции по ошибке через дельта-правило",
      "provenance": [],
      "collapsed_sections": []
    },
    "kernelspec": {
      "name": "python3",
      "display_name": "Python 3"
    },
    "language_info": {
      "name": "python"
    },
    "accelerator": "GPU"
  },
  "cells": [
    {
      "cell_type": "markdown",
      "source": [
        "# Обучение однослойного персептрона методом коррекции по ошибке через дельта-правило\n"
      ],
      "metadata": {
        "id": "xeGXAS8X_wEY"
      }
    },
    {
      "cell_type": "markdown",
      "source": [
        "## Загрузка датасета, предобработка данных"
      ],
      "metadata": {
        "id": "mWdvhmQtOEEY"
      }
    },
    {
      "cell_type": "code",
      "source": [
        "PATH = '/content/drive/MyDrive/Inga/Data/Data for labs/MNIST lab 1 MTUSI'\n",
        "import matplotlib.pyplot as plt\n",
        "import numpy as np\n",
        "import torch\n",
        "from torchvision import datasets, transforms\n",
        "transform = transforms.Compose([transforms.Resize(28),\n",
        "                                transforms.ToTensor()])\n",
        "train_dataset = datasets.ImageFolder(PATH+'/Train', transform=transform)\n",
        "dataloader = torch.utils.data.DataLoader(train_dataset, batch_size=32, shuffle=True)\n",
        "images, labels = next(iter(dataloader))"
      ],
      "metadata": {
        "id": "r9ENmtzcasFe"
      },
      "execution_count": 1,
      "outputs": []
    },
    {
      "cell_type": "markdown",
      "source": [
        "Наши картинки имеют по 3 канала, но использование всех 3 в данной задаче излишне - можно выбрать любой канал."
      ],
      "metadata": {
        "id": "r3Z6F-XoioO8"
      }
    },
    {
      "cell_type": "code",
      "source": [
        "plt.imshow(images[0][0])"
      ],
      "metadata": {
        "colab": {
          "base_uri": "https://localhost:8080/",
          "height": 282
        },
        "id": "A3SWKTPGio32",
        "outputId": "46203965-e985-417e-8f9d-c8c4fa8915c8"
      },
      "execution_count": 2,
      "outputs": [
        {
          "output_type": "execute_result",
          "data": {
            "text/plain": [
              "<matplotlib.image.AxesImage at 0x7f0cc2fa5ed0>"
            ]
          },
          "metadata": {},
          "execution_count": 2
        },
        {
          "output_type": "display_data",
          "data": {
            "text/plain": [
              "<Figure size 432x288 with 1 Axes>"
            ],
            "image/png": "[encoded data removed]"
          },
          "metadata": {
            "needs_background": "light"
          }
        }
      ]
    },
    {
      "cell_type": "code",
      "source": [
        "images = images[:, 0]\n",
        "images = images.reshape(24, 28*28)"
      ],
      "metadata": {
        "id": "0V9bE9bCis-f"
      },
      "execution_count": 3,
      "outputs": []
    },
    {
      "cell_type": "markdown",
      "source": [
        "## Архитектура сети:\n",
        "\n",
        "Создадим однослойный персептрон. \\\\\n",
        "\n",
        "Входной слой: 784 x 1 \\\\\n",
        "\n",
        "Метод обучения: дельта-правило (см. torch.optim.Adadelta)\n"
      ],
      "metadata": {
        "id": "mFtQSStFi_xE"
      }
    },
    {
      "cell_type": "code",
      "source": [
        "import torch\n",
        "from torch.nn import Linear"
      ],
      "metadata": {
        "id": "t2RyvaOWlHZC"
      },
      "execution_count": 6,
      "outputs": []
    },
    {
      "cell_type": "code",
      "source": [
        "input_size = 784\n",
        "output_size = 1"
      ],
      "metadata": {
        "id": "cUoDZKW-iwxW"
      },
      "execution_count": 7,
      "outputs": []
    },
    {
      "cell_type": "code",
      "source": [
        "mlp = torch.nn.Sequential(\n",
        "    Linear(input_size, output_size)\n",
        ").to('cuda')\n",
        "\n",
        "loss_fn = torch.nn.MSELoss()\n",
        "learning_rate = 0.001\n",
        "optimizer = torch.optim.Adadelta(mlp.parameters(), lr=learning_rate)\n",
        "num_epoch = 5000"
      ],
      "metadata": {
        "id": "5B6uYYe8a8rC"
      },
      "execution_count": 18,
      "outputs": []
    },
    {
      "cell_type": "code",
      "source": [
        "train_data = torch.cuda.FloatTensor(images.numpy(), device='cuda')\n",
        "train_labels = torch.cuda.FloatTensor(labels.numpy(), device='cuda')\n",
        "\n",
        "loss_curve = []\n",
        "for epoch in range(num_epoch):\n",
        "    y_pred = mlp(train_data)\n",
        "    loss = loss_fn(y_pred.reshape(-1), train_labels)\n",
        "    optimizer.zero_grad()\n",
        "    loss.backward()\n",
        "    optimizer.step()\n",
        "\n",
        "    if epoch % 50 == 0:\n",
        "\n",
        "        print('Epoch:', epoch, 'Loss:', loss.item())\n",
        "        loss_curve.append(loss.item())\n",
        "    "
      ],
      "metadata": {
        "colab": {
          "base_uri": "https://localhost:8080/"
        },
        "id": "locAGuR5i_P1",
        "outputId": "2b2f8fb1-d06e-4cbc-d7f7-ba4200b68471"
      },
      "execution_count": 19,
      "outputs": [
        {
          "output_type": "stream",
          "name": "stdout",
          "text": [
            "Epoch: 0 Loss: 8.996072769165039\n",
            "Epoch: 50 Loss: 8.858869552612305\n",
            "Epoch: 100 Loss: 8.70145034790039\n",
            "Epoch: 150 Loss: 8.528950691223145\n",
            "Epoch: 200 Loss: 8.344348907470703\n",
            "Epoch: 250 Loss: 8.150070190429688\n",
            "Epoch: 300 Loss: 7.948158264160156\n",
            "Epoch: 350 Loss: 7.740360260009766\n",
            "Epoch: 400 Loss: 7.528192043304443\n",
            "Epoch: 450 Loss: 7.312984466552734\n",
            "Epoch: 500 Loss: 7.095893383026123\n",
            "Epoch: 550 Loss: 6.877941131591797\n",
            "Epoch: 600 Loss: 6.660037994384766\n",
            "Epoch: 650 Loss: 6.442995071411133\n",
            "Epoch: 700 Loss: 6.227529048919678\n",
            "Epoch: 750 Loss: 6.014264106750488\n",
            "Epoch: 800 Loss: 5.8037543296813965\n",
            "Epoch: 850 Loss: 5.596482753753662\n",
            "Epoch: 900 Loss: 5.392856597900391\n",
            "Epoch: 950 Loss: 5.1932148933410645\n",
            "Epoch: 1000 Loss: 4.997837066650391\n",
            "Epoch: 1050 Loss: 4.806944847106934\n",
            "Epoch: 1100 Loss: 4.620713233947754\n",
            "Epoch: 1150 Loss: 4.439291954040527\n",
            "Epoch: 1200 Loss: 4.262797832489014\n",
            "Epoch: 1250 Loss: 4.091307640075684\n",
            "Epoch: 1300 Loss: 3.9248738288879395\n",
            "Epoch: 1350 Loss: 3.763512372970581\n",
            "Epoch: 1400 Loss: 3.6071791648864746\n",
            "Epoch: 1450 Loss: 3.455812931060791\n",
            "Epoch: 1500 Loss: 3.3093466758728027\n",
            "Epoch: 1550 Loss: 3.167698621749878\n",
            "Epoch: 1600 Loss: 3.030759334564209\n",
            "Epoch: 1650 Loss: 2.898418426513672\n",
            "Epoch: 1700 Loss: 2.770566940307617\n",
            "Epoch: 1750 Loss: 2.647104024887085\n",
            "Epoch: 1800 Loss: 2.5279369354248047\n",
            "Epoch: 1850 Loss: 2.412975788116455\n",
            "Epoch: 1900 Loss: 2.302135944366455\n",
            "Epoch: 1950 Loss: 2.1953351497650146\n",
            "Epoch: 2000 Loss: 2.0924854278564453\n",
            "Epoch: 2050 Loss: 1.9934906959533691\n",
            "Epoch: 2100 Loss: 1.8982453346252441\n",
            "Epoch: 2150 Loss: 1.8066266775131226\n",
            "Epoch: 2200 Loss: 1.7185113430023193\n",
            "Epoch: 2250 Loss: 1.6337569952011108\n",
            "Epoch: 2300 Loss: 1.5522127151489258\n",
            "Epoch: 2350 Loss: 1.473738431930542\n",
            "Epoch: 2400 Loss: 1.398230791091919\n",
            "Epoch: 2450 Loss: 1.3256133794784546\n",
            "Epoch: 2500 Loss: 1.2558271884918213\n",
            "Epoch: 2550 Loss: 1.188820242881775\n",
            "Epoch: 2600 Loss: 1.1245403289794922\n",
            "Epoch: 2650 Loss: 1.0629396438598633\n",
            "Epoch: 2700 Loss: 1.003974199295044\n",
            "Epoch: 2750 Loss: 0.947594165802002\n",
            "Epoch: 2800 Loss: 0.8937455415725708\n",
            "Epoch: 2850 Loss: 0.842369794845581\n",
            "Epoch: 2900 Loss: 0.7934063673019409\n",
            "Epoch: 2950 Loss: 0.746795654296875\n",
            "Epoch: 3000 Loss: 0.7024781703948975\n",
            "Epoch: 3050 Loss: 0.6603918075561523\n",
            "Epoch: 3100 Loss: 0.6204710006713867\n",
            "Epoch: 3150 Loss: 0.5826480388641357\n",
            "Epoch: 3200 Loss: 0.5468498468399048\n",
            "Epoch: 3250 Loss: 0.5130009651184082\n",
            "Epoch: 3300 Loss: 0.4810219705104828\n",
            "Epoch: 3350 Loss: 0.45083555579185486\n",
            "Epoch: 3400 Loss: 0.4223707616329193\n",
            "Epoch: 3450 Loss: 0.39556002616882324\n",
            "Epoch: 3500 Loss: 0.37033724784851074\n",
            "Epoch: 3550 Loss: 0.3466372489929199\n",
            "Epoch: 3600 Loss: 0.32439547777175903\n",
            "Epoch: 3650 Loss: 0.3035457730293274\n",
            "Epoch: 3700 Loss: 0.2840191125869751\n",
            "Epoch: 3750 Loss: 0.2657412588596344\n",
            "Epoch: 3800 Loss: 0.2486400455236435\n",
            "Epoch: 3850 Loss: 0.23264601826667786\n",
            "Epoch: 3900 Loss: 0.2176939696073532\n",
            "Epoch: 3950 Loss: 0.20372161269187927\n",
            "Epoch: 4000 Loss: 0.19066938757896423\n",
            "Epoch: 4050 Loss: 0.17847953736782074\n",
            "Epoch: 4100 Loss: 0.16709570586681366\n",
            "Epoch: 4150 Loss: 0.1564626395702362\n",
            "Epoch: 4200 Loss: 0.1465272307395935\n",
            "Epoch: 4250 Loss: 0.13723969459533691\n",
            "Epoch: 4300 Loss: 0.12855207920074463\n",
            "Epoch: 4350 Loss: 0.12041787803173065\n",
            "Epoch: 4400 Loss: 0.1127932071685791\n",
            "Epoch: 4450 Loss: 0.1056387722492218\n",
            "Epoch: 4500 Loss: 0.09891921281814575\n",
            "Epoch: 4550 Loss: 0.09260308742523193\n",
            "Epoch: 4600 Loss: 0.0866619348526001\n",
            "Epoch: 4650 Loss: 0.0810696929693222\n",
            "Epoch: 4700 Loss: 0.07580283284187317\n",
            "Epoch: 4750 Loss: 0.07084038853645325\n",
            "Epoch: 4800 Loss: 0.06616313755512238\n",
            "Epoch: 4850 Loss: 0.06175406277179718\n",
            "Epoch: 4900 Loss: 0.05759788677096367\n",
            "Epoch: 4950 Loss: 0.05368097871541977\n"
          ]
        }
      ]
    },
    {
      "cell_type": "code",
      "source": [
        "from matplotlib import pyplot as plt\n",
        "\n",
        "plt.plot(loss_curve)\n",
        "plt.title('Loss curve')\n",
        "plt.xlabel('epoch')\n",
        "plt.ylabel('loss')"
      ],
      "metadata": {
        "colab": {
          "base_uri": "https://localhost:8080/",
          "height": 312
        },
        "id": "u0vi9oyxbVGB",
        "outputId": "7041a1d0-8497-43bc-9316-e1513d5e93f3"
      },
      "execution_count": 20,
      "outputs": [
        {
          "output_type": "execute_result",
          "data": {
            "text/plain": [
              "Text(0, 0.5, 'loss')"
            ]
          },
          "metadata": {},
          "execution_count": 20
        },
        {
          "output_type": "display_data",
          "data": {
            "text/plain": [
              "<Figure size 432x288 with 1 Axes>"
            ],
            "image/png": "[encoded data removed]"
          },
          "metadata": {
            "needs_background": "light"
          }
        }
      ]
    },
    {
      "cell_type": "code",
      "source": [
        "from sklearn.metrics import accuracy_score\n",
        "preds = y_pred.detach().cpu().numpy().round()\n",
        "print(\"Точность на обучении:\", accuracy_score(train_labels.detach().cpu().numpy(), preds))"
      ],
      "metadata": {
        "colab": {
          "base_uri": "https://localhost:8080/"
        },
        "id": "kQIa5wpGs8PT",
        "outputId": "bc785dcb-2c09-443c-dd7a-a5f36252f852"
      },
      "execution_count": 21,
      "outputs": [
        {
          "output_type": "stream",
          "name": "stdout",
          "text": [
            "Точность на обучении: 0.9583333333333334\n"
          ]
        }
      ]
    },
    {
      "cell_type": "markdown",
      "source": [
        "## Тестирование:"
      ],
      "metadata": {
        "id": "UYtDhELVrsTW"
      }
    },
    {
      "cell_type": "code",
      "source": [
        "test_dataset = datasets.ImageFolder(PATH+'/Test', transform=transform)\n",
        "dataloader = torch.utils.data.DataLoader(test_dataset, batch_size=32, shuffle=True)\n",
        "test_images, test_labels = next(iter(dataloader))\n",
        "\n",
        "test_images = test_images[:, 0]\n",
        "test_images = test_images.reshape(6, 28*28)"
      ],
      "metadata": {
        "id": "H69op_00r4KD"
      },
      "execution_count": 47,
      "outputs": []
    },
    {
      "cell_type": "code",
      "source": [
        "test_data = torch.cuda.FloatTensor(test_images.numpy(), device='cuda')\n",
        "test_preds = mlp(test_data).detach().cpu().numpy().round()"
      ],
      "metadata": {
        "id": "ykVDNmJJouff"
      },
      "execution_count": 48,
      "outputs": []
    },
    {
      "cell_type": "code",
      "source": [
        "print(\"Точность на тесте:\", accuracy_score(test_labels.numpy(), test_preds))"
      ],
      "metadata": {
        "id": "b_SZ2JA4uMx8",
        "colab": {
          "base_uri": "https://localhost:8080/"
        },
        "outputId": "17694c44-dcc1-474b-d571-352910499e18"
      },
      "execution_count": 49,
      "outputs": [
        {
          "output_type": "stream",
          "name": "stdout",
          "text": [
            "Точность на тесте: 0.8333333333333334\n"
          ]
        }
      ]
    },
    {
      "cell_type": "markdown",
      "source": [
        "### Где ошибка?"
      ],
      "metadata": {
        "id": "7fbXbD7thcjb"
      }
    },
    {
      "cell_type": "code",
      "source": [
        "test_labels = test_labels.numpy().astype(int)\n",
        "test_preds = test_preds.reshape(-1).astype(int)"
      ],
      "metadata": {
        "id": "Lqw0qkWlf-8p"
      },
      "execution_count": 50,
      "outputs": []
    },
    {
      "cell_type": "code",
      "source": [
        "wrong_ans = test_preds != test_labels\n",
        "bad_classification_X = test_data[wrong_ans]\n",
        "wrong_preds = test_preds[wrong_ans]"
      ],
      "metadata": {
        "id": "oaSsOE0KevTf"
      },
      "execution_count": 52,
      "outputs": []
    },
    {
      "cell_type": "code",
      "source": [
        "plt.imshow(bad_classification_X.cpu().detach().numpy().reshape(28, 28))"
      ],
      "metadata": {
        "colab": {
          "base_uri": "https://localhost:8080/",
          "height": 282
        },
        "id": "w1LiDi2vfWAF",
        "outputId": "f0c3fb1a-b92b-4e77-c1fd-f482fb1ee1d4"
      },
      "execution_count": 58,
      "outputs": [
        {
          "output_type": "execute_result",
          "data": {
            "text/plain": [
              "<matplotlib.image.AxesImage at 0x7f0c99dab990>"
            ]
          },
          "metadata": {},
          "execution_count": 58
        },
        {
          "output_type": "display_data",
          "data": {
            "text/plain": [
              "<Figure size 432x288 with 1 Axes>"
            ],
            "image/png": "[encoded data removed]"
          },
          "metadata": {
            "needs_background": "light"
          }
        }
      ]
    },
    {
      "cell_type": "code",
      "source": [
        "print(\"Модель считает, что это\", wrong_preds[0])"
      ],
      "metadata": {
        "colab": {
          "base_uri": "https://localhost:8080/"
        },
        "id": "QUVja4zofRbi",
        "outputId": "b339d98f-7bd6-4a1f-f5a3-aac4b458f7bb"
      },
      "execution_count": 62,
      "outputs": [
        {
          "output_type": "stream",
          "name": "stdout",
          "text": [
            "Модель считает, что это 4\n"
          ]
        }
      ]
    },
    {
      "cell_type": "markdown",
      "source": [
        "## Выводы:\n",
        "\n",
        "Сеть данной архитектуры способна решать данную задачу просто как задачу регрессии, что говорит о том, что изображения цифр оказались хорошо линейно разделимы в пространстве векторов размера 784. \\\\\n",
        "\n",
        "Однако вряд ли у нашей сети есть серъезная способность к генерализации - на столь малом датасете такие выводы делать не стоит. Скорее всего сеть просто переобучилась на тренировочную выборку (что видно по лосс-кривой), и может выдавать ответы только на данных, очень похожих на тренировочные."
      ],
      "metadata": {
        "id": "SdgGhOo5dchz"
      }
    },
    {
      "cell_type": "code",
      "source": [
        ""
      ],
      "metadata": {
        "id": "NDQvgMhfhZK-"
      },
      "execution_count": null,
      "outputs": []
    }
  ]
}